{
 "cells": [
  {
   "cell_type": "code",
   "execution_count": null,
   "id": "e9aab091-cbd9-4d29-946c-b9271be18133",
   "metadata": {},
   "outputs": [],
   "source": [
    "\"\"\"\n",
    "M02 Programming Assignment - Loops and Conditionals 6.3\n",
    "Taylor Hickman\n",
    "March 28, 2024\n",
    "\"\"\"\n",
    "\n",
    "#variables\n",
    "guess_me = 5\n",
    "\n",
    "for number in range(10):\n",
    "    #if number is less than guess_me\n",
    "    if number < guess_me:\n",
    "        print(\"too low\")\n",
    "    #if number equals guess_me\n",
    "    elif number == guess_me:\n",
    "        print(\"found it!\")\n",
    "        break\n",
    "    #if number is greater than guess_me\n",
    "    else:\n",
    "        print(\"oops\")\n",
    "        break"
   ]
  }
 ],
 "metadata": {
  "kernelspec": {
   "display_name": "Python 3 (ipykernel)",
   "language": "python",
   "name": "python3"
  },
  "language_info": {
   "codemirror_mode": {
    "name": "ipython",
    "version": 3
   },
   "file_extension": ".py",
   "mimetype": "text/x-python",
   "name": "python",
   "nbconvert_exporter": "python",
   "pygments_lexer": "ipython3",
   "version": "3.11.7"
  }
 },
 "nbformat": 4,
 "nbformat_minor": 5
}
