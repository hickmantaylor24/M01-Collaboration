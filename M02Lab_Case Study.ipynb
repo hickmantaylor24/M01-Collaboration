{
 "cells": [
  {
   "cell_type": "code",
   "execution_count": null,
   "id": "efd02623-a989-4b71-8a09-c0ee2dfa0e11",
   "metadata": {},
   "outputs": [],
   "source": [
    "\"\"\" Taylor Hickman\n",
    "M02 Lab - Case Study: if...else and while\n",
    "App accepts student names and GPAs and test if the student qualifies \n",
    "for either the Dean's List or the Honor Roll. \"\"\"\n",
    "\n",
    "lname = str(input(\"Enter your last name (enter ZZZ to quit): \"))\n",
    "\n",
    "if lname == \"ZZZ\":\n",
    "    exit\n",
    "\n",
    "else:\n",
    "    fname = input(\"Enter your first name: \")\n",
    "    gpa = float(input(\"Enter your GPA: \"))\n",
    "\n",
    "    if gpa > 3.5:\n",
    "        print(fname, lname, \"has made the Dean's List.\")\n",
    "\n",
    "    if gpa > 3.2:\n",
    "        print(fname, lname, \"has made the Honor Roll.\")"
   ]
  },
  {
   "cell_type": "code",
   "execution_count": null,
   "id": "b5cd7b62-272b-4815-ac43-4b4b4dd484e3",
   "metadata": {},
   "outputs": [],
   "source": []
  }
 ],
 "metadata": {
  "kernelspec": {
   "display_name": "Python 3 (ipykernel)",
   "language": "python",
   "name": "python3"
  },
  "language_info": {
   "codemirror_mode": {
    "name": "ipython",
    "version": 3
   },
   "file_extension": ".py",
   "mimetype": "text/x-python",
   "name": "python",
   "nbconvert_exporter": "python",
   "pygments_lexer": "ipython3",
   "version": "3.11.7"
  }
 },
 "nbformat": 4,
 "nbformat_minor": 5
}
