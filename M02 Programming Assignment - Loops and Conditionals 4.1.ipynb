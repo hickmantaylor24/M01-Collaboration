{
 "cells": [
  {
   "cell_type": "code",
   "execution_count": 1,
   "id": "4387a44e-896a-4ef4-8190-442bfcaeae13",
   "metadata": {},
   "outputs": [
    {
     "name": "stdout",
     "output_type": "stream",
     "text": [
      "too high\n"
     ]
    }
   ],
   "source": [
    "\"\"\"\n",
    "M02 Programming Assignment - Loops and Conditionals 4.1\n",
    "Taylor Hickman\n",
    "March 27, 2024\n",
    "\"\"\"\n",
    "\n",
    "#Variables\n",
    "secret = 2\n",
    "guess = 4\n",
    "\n",
    "#Condition if too high\n",
    "if guess > secret:\n",
    "    print(\"too high\")\n",
    "\n",
    "#Condition if guess is equal to secret\n",
    "elif guess == secret:\n",
    "    print(\"just right\")\n",
    "\n",
    "#Condition if too low (not high or equal to)\n",
    "else:\n",
    "    print(\"too low\")"
   ]
  },
  {
   "cell_type": "code",
   "execution_count": null,
   "id": "66fc6e31-68ec-4d56-a40f-be1b35ee53d9",
   "metadata": {},
   "outputs": [],
   "source": []
  }
 ],
 "metadata": {
  "kernelspec": {
   "display_name": "Python 3 (ipykernel)",
   "language": "python",
   "name": "python3"
  },
  "language_info": {
   "codemirror_mode": {
    "name": "ipython",
    "version": 3
   },
   "file_extension": ".py",
   "mimetype": "text/x-python",
   "name": "python",
   "nbconvert_exporter": "python",
   "pygments_lexer": "ipython3",
   "version": "3.11.7"
  }
 },
 "nbformat": 4,
 "nbformat_minor": 5
}
