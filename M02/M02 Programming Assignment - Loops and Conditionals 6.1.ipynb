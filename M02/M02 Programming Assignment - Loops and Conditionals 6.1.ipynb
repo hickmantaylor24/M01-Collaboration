{
 "cells": [
  {
   "cell_type": "code",
   "execution_count": null,
   "id": "bc2bbcca-0904-4764-a3e2-4ca2224cafc1",
   "metadata": {},
   "outputs": [],
   "source": [
    "\"\"\"\n",
    "M02 Programming Assignment - Loops and Conditionals 6.1\n",
    "Taylor Hickman\n",
    "March 29, 2024\n",
    "\"\"\"\n",
    "\n",
    "list = [3,2,1,0]\n",
    "\n",
    "#loop to print all numbers in list\n",
    "for x in list:\n",
    "    print(x)"
   ]
  }
 ],
 "metadata": {
  "kernelspec": {
   "display_name": "Python 3 (ipykernel)",
   "language": "python",
   "name": "python3"
  },
  "language_info": {
   "codemirror_mode": {
    "name": "ipython",
    "version": 3
   },
   "file_extension": ".py",
   "mimetype": "text/x-python",
   "name": "python",
   "nbconvert_exporter": "python",
   "pygments_lexer": "ipython3",
   "version": "3.11.7"
  }
 },
 "nbformat": 4,
 "nbformat_minor": 5
}
