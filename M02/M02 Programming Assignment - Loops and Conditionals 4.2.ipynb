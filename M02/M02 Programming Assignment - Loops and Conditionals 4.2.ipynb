{
 "cells": [
  {
   "cell_type": "code",
   "execution_count": null,
   "id": "00f1fcbc-b9c7-4f66-80ec-2dbf51e8ca86",
   "metadata": {},
   "outputs": [],
   "source": [
    "\"\"\"\n",
    "M02 Programming Assignment - Loops and Conditionals 4.2\n",
    "Taylor Hickman\n",
    "March 28, 2024\n",
    "\"\"\"\n",
    "\n",
    "#4.2\n",
    "\n",
    "#Variables\n",
    "small = True\n",
    "green = True\n",
    "\n",
    "#conditions for either green and small\n",
    "if small and green:\n",
    "    print(\"pea\")\n",
    "\n",
    "elif small and not green:\n",
    "    print(\"cherry\")\n",
    "\n",
    "elif not small and green:\n",
    "    print(\"watermelon\")\n",
    "\n",
    "#not either green or small\n",
    "else:\n",
    "    print(\"pumpkin\")"
   ]
  }
 ],
 "metadata": {
  "kernelspec": {
   "display_name": "Python 3 (ipykernel)",
   "language": "python",
   "name": "python3"
  },
  "language_info": {
   "codemirror_mode": {
    "name": "ipython",
    "version": 3
   },
   "file_extension": ".py",
   "mimetype": "text/x-python",
   "name": "python",
   "nbconvert_exporter": "python",
   "pygments_lexer": "ipython3",
   "version": "3.11.7"
  }
 },
 "nbformat": 4,
 "nbformat_minor": 5
}
