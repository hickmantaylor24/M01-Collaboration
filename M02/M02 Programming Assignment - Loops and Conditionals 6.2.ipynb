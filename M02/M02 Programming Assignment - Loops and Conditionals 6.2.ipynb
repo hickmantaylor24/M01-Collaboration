{
 "cells": [
  {
   "cell_type": "code",
   "execution_count": null,
   "id": "5b331ae4-fc61-48b9-bc8d-f1e424128a32",
   "metadata": {},
   "outputs": [],
   "source": [
    "\"\"\"\n",
    "M02 Programming Assignment - Loops and Conditionals 6.2\n",
    "Taylor Hickman\n",
    "March 28, 2024\n",
    "\"\"\"\n",
    "#variables\n",
    "guess_me = 7\n",
    "number = 1\n",
    "\n",
    "\n",
    "while number != guess_me:\n",
    "    #number is less than guess_me\n",
    "    if number < guess_me:\n",
    "        print(\"too low\")\n",
    "        number += 1 #increase number by 1\n",
    "\n",
    "    #number is greater than guess_me\n",
    "    elif number > guess_me:\n",
    "        print(\"oops\")\n",
    "        break\n",
    "\n",
    "#the while condition is no longer true (number = guess_me)\n",
    "print(\"found it!\")"
   ]
  }
 ],
 "metadata": {
  "kernelspec": {
   "display_name": "Python 3 (ipykernel)",
   "language": "python",
   "name": "python3"
  },
  "language_info": {
   "codemirror_mode": {
    "name": "ipython",
    "version": 3
   },
   "file_extension": ".py",
   "mimetype": "text/x-python",
   "name": "python",
   "nbconvert_exporter": "python",
   "pygments_lexer": "ipython3",
   "version": "3.11.7"
  }
 },
 "nbformat": 4,
 "nbformat_minor": 5
}
