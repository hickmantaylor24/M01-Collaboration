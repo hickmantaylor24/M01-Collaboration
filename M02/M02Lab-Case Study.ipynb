{
 "cells": [
  {
   "cell_type": "code",
   "execution_count": null,
   "id": "7e493fc9-4c73-4305-b4b0-0a0c8262c8bb",
   "metadata": {},
   "outputs": [],
   "source": [
    "\"\"\" Taylor Hickman\n",
    "M02 Lab - Case Study: if...else and while\n",
    "App accepts student names and GPAs and test if the student qualifies \n",
    "for either the Dean's List or the Honor Roll. \"\"\"\n",
    "\n",
    "#Get last name or quit\n",
    "lname = str(input(\"Enter your last name (enter ZZZ to quit): \"))\n",
    "\n",
    "#If user enters \"ZZZ\" then quit program\n",
    "if lname == \"ZZZ\":\n",
    "    exit\n",
    "\n",
    "#If user enters a last name continue.. get first name and GPA\n",
    "else:\n",
    "    fname = input(\"Enter your first name: \")\n",
    "    gpa = float(input(\"Enter your GPA: \"))\n",
    "\n",
    "#GPA limits and output\n",
    "    if gpa > 3.5:\n",
    "        print(fname, lname, \"has made the Dean's List.\")\n",
    "\n",
    "    if gpa > 3.2:\n",
    "        print(fname, lname, \"has made the Honor Roll.\")"
   ]
  }
 ],
 "metadata": {
  "kernelspec": {
   "display_name": "Python 3 (ipykernel)",
   "language": "python",
   "name": "python3"
  },
  "language_info": {
   "codemirror_mode": {
    "name": "ipython",
    "version": 3
   },
   "file_extension": ".py",
   "mimetype": "text/x-python",
   "name": "python",
   "nbconvert_exporter": "python",
   "pygments_lexer": "ipython3",
   "version": "3.11.7"
  }
 },
 "nbformat": 4,
 "nbformat_minor": 5
}
