{
 "cells": [
  {
   "cell_type": "code",
   "execution_count": null,
   "id": "c3425d34-7750-41b5-b0dc-cb5275da7aff",
   "metadata": {},
   "outputs": [],
   "source": [
    "\"\"\"\n",
    "M04 Lab - Case Study: Python APIs\n",
    "Taylor Hickman\n",
    "April 9, 2024\n",
    "\"\"\"\n",
    "#imports\n",
    "from flask import Flask\n",
    "app = Flask(__name__)\n",
    "from flask_sqlalchemy import SQLAlchemy\n",
    "\n",
    "app.config[\"SQLALCHEMY_DATA_URI\"] = \"sqlite://data.db\"\n",
    "db = SQLAlchemy(app)\n",
    "\n",
    "\n",
    "\n",
    "#book class with parameters\n",
    "class Books(db.Model):\n",
    "    id = db.Column(db.Interger, primary_key = True)\n",
    "    name = db.Column(db.String(80), unique = True, nullable = False)\n",
    "    author = db.Column(db.String(80), nullable = False)\n",
    "    publisher = db.Column(db.String(80), nullable = False)\n",
    "\n",
    "    def __repr__(self):\n",
    "        return f\"{self.name} - {self.author}\"\n",
    "    \n",
    "\n",
    "\n",
    "#get book list\n",
    "@app.route(\"/books\")\n",
    "def get_books():\n",
    "    books = Book.query.all()\n",
    "\n",
    "    output = []\n",
    "    for book in books:\n",
    "        book_data = {\"Title\": book.name, \"Author\": book.author, \"Publisher\": book.publisher}\n",
    "\n",
    "        output.append(book_data)\n",
    "    return {\"Books\": output}\n",
    "\n",
    "\n",
    "#get one book with id\n",
    "@app.route(\"/books/<id>\")\n",
    "def get_book(id):\n",
    "    book = Book.query.get_or_404(id)\n",
    "    return {\"Title\": book.name, \"Author\": book.author, \"Publisher\": book.publisher}\n"
   ]
  }
 ],
 "metadata": {
  "kernelspec": {
   "display_name": "",
   "name": ""
  },
  "language_info": {
   "name": ""
  }
 },
 "nbformat": 4,
 "nbformat_minor": 5
}
