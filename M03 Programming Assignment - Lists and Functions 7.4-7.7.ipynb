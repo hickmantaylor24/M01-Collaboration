{
 "cells": [
  {
   "cell_type": "code",
   "execution_count": null,
   "id": "42317dcd-0120-4f18-bf54-c5463e472c37",
   "metadata": {},
   "outputs": [],
   "source": [
    "\"\"\"\n",
    "M03 Programming Assignment - Lists and Functions 7.4-7.7\n",
    "Taylor Hickman\n",
    "April 2, 2024\n",
    "\"\"\"\n",
    "\n",
    "#7.4 list of things\n",
    "things = [\"mozzarella\", \"cinderella\", \"salmonella\"]\n",
    "\n",
    "#7.5 - capitalize the word cinderella\n",
    "things[1] = things[1].capitalize()\n",
    "\n",
    "#7.6 - write mozzarella in all capital letters\n",
    "things[0] = things[0].upper()\n",
    "\n",
    "#7.6 - delete the word salmonella\n",
    "things.remove(\"salmonella\")\n",
    "\n",
    "\n",
    "print(things)"
   ]
  }
 ],
 "metadata": {
  "kernelspec": {
   "display_name": "Python 3 (ipykernel)",
   "language": "python",
   "name": "python3"
  },
  "language_info": {
   "codemirror_mode": {
    "name": "ipython",
    "version": 3
   },
   "file_extension": ".py",
   "mimetype": "text/x-python",
   "name": "python",
   "nbconvert_exporter": "python",
   "pygments_lexer": "ipython3",
   "version": "3.11.7"
  }
 },
 "nbformat": 4,
 "nbformat_minor": 5
}
