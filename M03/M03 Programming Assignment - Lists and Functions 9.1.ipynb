{
 "cells": [
  {
   "cell_type": "code",
   "execution_count": null,
   "id": "99f16d57-4d08-4079-bbb9-16775408ce76",
   "metadata": {},
   "outputs": [],
   "source": [
    "\"\"\"\n",
    "M03 Programming Assignment - Lists and Functions 9.1\n",
    "Taylor Hickman\n",
    "April 2, 2024\n",
    "\"\"\"\n",
    "\n",
    "#9.1\n",
    "def good():\n",
    "    return [\"Harry\", \"Ron\", \"Herione\"]"
   ]
  }
 ],
 "metadata": {
  "kernelspec": {
   "display_name": "Python 3 (ipykernel)",
   "language": "python",
   "name": "python3"
  },
  "language_info": {
   "codemirror_mode": {
    "name": "ipython",
    "version": 3
   },
   "file_extension": ".py",
   "mimetype": "text/x-python",
   "name": "python",
   "nbconvert_exporter": "python",
   "pygments_lexer": "ipython3",
   "version": "3.11.7"
  }
 },
 "nbformat": 4,
 "nbformat_minor": 5
}
