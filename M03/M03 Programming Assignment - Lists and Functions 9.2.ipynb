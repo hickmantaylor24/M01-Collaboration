{
 "cells": [
  {
   "cell_type": "code",
   "execution_count": null,
   "id": "8cf4cbf6-ef60-42f5-8469-a9748b6e6b39",
   "metadata": {},
   "outputs": [],
   "source": [
    "\"\"\"\n",
    "M03 Programming Assignment - Lists and Functions 9.2\n",
    "Taylor Hickman\n",
    "April 2, 2024\n",
    "\"\"\"\n",
    "\n",
    "#9.2\n",
    "def get_odds():\n",
    "    for number in range(1,10,2): #create odd number range of 10\n",
    "        yield number\n",
    "\n",
    "count = 1\n",
    "for number in get_odds(): #for loop to print out the 3rd value returned\n",
    "    if count == 3:\n",
    "        print(number)\n",
    "        break\n",
    "    count += 1"
   ]
  }
 ],
 "metadata": {
  "kernelspec": {
   "display_name": "Python 3 (ipykernel)",
   "language": "python",
   "name": "python3"
  },
  "language_info": {
   "codemirror_mode": {
    "name": "ipython",
    "version": 3
   },
   "file_extension": ".py",
   "mimetype": "text/x-python",
   "name": "python",
   "nbconvert_exporter": "python",
   "pygments_lexer": "ipython3",
   "version": "3.11.7"
  }
 },
 "nbformat": 4,
 "nbformat_minor": 5
}
