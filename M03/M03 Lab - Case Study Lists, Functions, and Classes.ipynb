{
 "cells": [
  {
   "cell_type": "code",
   "execution_count": null,
   "id": "cfdaa30b-d35f-44ef-9eee-a33f6988c965",
   "metadata": {},
   "outputs": [],
   "source": [
    "\"\"\"\n",
    "M03 Lab - Case Study: Lists, Functions, and Classes\n",
    "Taylor Hickman\n",
    "April 4, 2024\n",
    "\"\"\"\n",
    "\n",
    "\n",
    "class Vehicle:\n",
    "    def __init__(self, vehicle_type):\n",
    "        self.vehicle_type = vehicle_type\n",
    "    \n",
    "\n",
    "class Automobile(Vehicle):\n",
    "    def __init__(self, vehicle_type, year, make, model, doors, roof):\n",
    "        super().__init__(vehicle_type)\n",
    "        self.year = year\n",
    "        self.make = make\n",
    "        self.model = model\n",
    "        self.doors = doors\n",
    "        self.roof = roof\n",
    "\n",
    "vehicle_type = input(\"Enter the vehicle type: \")\n",
    "year = input(\"Enter the year: \")\n",
    "make = input(\"Enter the make: \")\n",
    "model = input(\"Enter the model: \")\n",
    "doors = input(\"Enter the number of doors: \")\n",
    "roof = input(\"Enter the type of roof: \")\n",
    "\n",
    "\n",
    "print(\"Vehicle type: \", vehicle_type)\n",
    "print(\"Year: \", year)\n",
    "print(\"Make: \", make)\n",
    "print(\"Model \", model)\n",
    "print(\"Number of doors: \", year)\n",
    "print(\"Type of roof: \", roof)"
   ]
  }
 ],
 "metadata": {
  "kernelspec": {
   "display_name": "Python 3 (ipykernel)",
   "language": "python",
   "name": "python3"
  },
  "language_info": {
   "codemirror_mode": {
    "name": "ipython",
    "version": 3
   },
   "file_extension": ".py",
   "mimetype": "text/x-python",
   "name": "python",
   "nbconvert_exporter": "python",
   "pygments_lexer": "ipython3",
   "version": "3.11.7"
  }
 },
 "nbformat": 4,
 "nbformat_minor": 5
}
